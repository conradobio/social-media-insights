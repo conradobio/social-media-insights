{
 "cells": [
  {
   "cell_type": "code",
   "execution_count": 1,
   "metadata": {},
   "outputs": [],
   "source": [
    "from instabot import Bot"
   ]
  },
  {
   "cell_type": "code",
   "execution_count": 2,
   "metadata": {},
   "outputs": [
    {
     "name": "stderr",
     "output_type": "stream",
     "text": [
      "2023-04-08 16:13:16,356 - INFO - Instabot version: 0.117.0 Started\n",
      "2023-04-08 16:13:16,357 - INFO - Not yet logged in starting: PRE-LOGIN FLOW!\n",
      "2023-04-08 16:13:21,842 - ERROR - Request returns 400 error!\n",
      "2023-04-08 16:13:21,843 - INFO - Instagram's error message: challenge_required\n",
      "2023-04-08 16:13:21,843 - INFO - Error type: checkpoint_challenge_required\n"
     ]
    },
    {
     "data": {
      "text/plain": [
       "False"
      ]
     },
     "execution_count": 2,
     "metadata": {},
     "output_type": "execute_result"
    }
   ],
   "source": [
    "bot = Bot()\n",
    "bot.login(username=\"conrabio\", password=\"Conrabi1701!\")"
   ]
  },
  {
   "cell_type": "code",
   "execution_count": 5,
   "metadata": {},
   "outputs": [
    {
     "ename": "AttributeError",
     "evalue": "'API' object has no attribute 'session'",
     "output_type": "error",
     "traceback": [
      "\u001b[0;31m---------------------------------------------------------------------------\u001b[0m",
      "\u001b[0;31mAttributeError\u001b[0m                            Traceback (most recent call last)",
      "Cell \u001b[0;32mIn[5], line 1\u001b[0m\n\u001b[0;32m----> 1\u001b[0m user_id \u001b[39m=\u001b[39m bot\u001b[39m.\u001b[39;49mget_user_id_from_username(\u001b[39m\"\u001b[39;49m\u001b[39mlego\u001b[39;49m\u001b[39m\"\u001b[39;49m)\n\u001b[1;32m      2\u001b[0m user_info \u001b[39m=\u001b[39m bot\u001b[39m.\u001b[39mget_user_info(user_id)\n\u001b[1;32m      3\u001b[0m \u001b[39mprint\u001b[39m(user_info[\u001b[39m'\u001b[39m\u001b[39mbiography\u001b[39m\u001b[39m'\u001b[39m])\n",
      "File \u001b[0;32m~/repos/Pessoal/social-media-insights/.venv/lib/python3.10/site-packages/instabot/bot/bot.py:603\u001b[0m, in \u001b[0;36mBot.get_user_id_from_username\u001b[0;34m(self, username)\u001b[0m\n\u001b[1;32m    602\u001b[0m \u001b[39mdef\u001b[39;00m \u001b[39mget_user_id_from_username\u001b[39m(\u001b[39mself\u001b[39m, username):\n\u001b[0;32m--> 603\u001b[0m     \u001b[39mreturn\u001b[39;00m get_user_id_from_username(\u001b[39mself\u001b[39;49m, username)\n",
      "File \u001b[0;32m~/repos/Pessoal/social-media-insights/.venv/lib/python3.10/site-packages/instabot/bot/bot_get.py:207\u001b[0m, in \u001b[0;36mget_user_id_from_username\u001b[0;34m(self, username)\u001b[0m\n\u001b[1;32m    205\u001b[0m \u001b[39mdef\u001b[39;00m \u001b[39mget_user_id_from_username\u001b[39m(\u001b[39mself\u001b[39m, username):\n\u001b[1;32m    206\u001b[0m     \u001b[39mif\u001b[39;00m username \u001b[39mnot\u001b[39;00m \u001b[39min\u001b[39;00m \u001b[39mself\u001b[39m\u001b[39m.\u001b[39m_usernames:\n\u001b[0;32m--> 207\u001b[0m         \u001b[39mself\u001b[39;49m\u001b[39m.\u001b[39;49mapi\u001b[39m.\u001b[39;49msearch_username(username)\n\u001b[1;32m    208\u001b[0m         \u001b[39mself\u001b[39m\u001b[39m.\u001b[39mvery_small_delay()\n\u001b[1;32m    209\u001b[0m         \u001b[39mif\u001b[39;00m \u001b[39m\"\u001b[39m\u001b[39muser\u001b[39m\u001b[39m\"\u001b[39m \u001b[39min\u001b[39;00m \u001b[39mself\u001b[39m\u001b[39m.\u001b[39mapi\u001b[39m.\u001b[39mlast_json:\n",
      "File \u001b[0;32m~/repos/Pessoal/social-media-insights/.venv/lib/python3.10/site-packages/instabot/api/api.py:1593\u001b[0m, in \u001b[0;36mAPI.search_username\u001b[0;34m(self, username)\u001b[0m\n\u001b[1;32m   1591\u001b[0m \u001b[39mdef\u001b[39;00m \u001b[39msearch_username\u001b[39m(\u001b[39mself\u001b[39m, username):\n\u001b[1;32m   1592\u001b[0m     url \u001b[39m=\u001b[39m \u001b[39m\"\u001b[39m\u001b[39musers/\u001b[39m\u001b[39m{username}\u001b[39;00m\u001b[39m/usernameinfo/\u001b[39m\u001b[39m\"\u001b[39m\u001b[39m.\u001b[39mformat(username\u001b[39m=\u001b[39musername)\n\u001b[0;32m-> 1593\u001b[0m     \u001b[39mreturn\u001b[39;00m \u001b[39mself\u001b[39;49m\u001b[39m.\u001b[39;49msend_request(url)\n",
      "File \u001b[0;32m~/repos/Pessoal/social-media-insights/.venv/lib/python3.10/site-packages/instabot/api/api.py:481\u001b[0m, in \u001b[0;36mAPI.send_request\u001b[0;34m(self, endpoint, post, login, with_signature, headers, extra_sig, timeout_minutes)\u001b[0m\n\u001b[1;32m    470\u001b[0m \u001b[39mdef\u001b[39;00m \u001b[39msend_request\u001b[39m(\n\u001b[1;32m    471\u001b[0m     \u001b[39mself\u001b[39m,\n\u001b[1;32m    472\u001b[0m     endpoint,\n\u001b[0;32m   (...)\u001b[0m\n\u001b[1;32m    478\u001b[0m     timeout_minutes\u001b[39m=\u001b[39m\u001b[39mNone\u001b[39;00m,\n\u001b[1;32m    479\u001b[0m ):\n\u001b[1;32m    480\u001b[0m     \u001b[39mself\u001b[39m\u001b[39m.\u001b[39mset_proxy()  \u001b[39m# Only happens if `self.proxy`\u001b[39;00m\n\u001b[0;32m--> 481\u001b[0m     \u001b[39mself\u001b[39;49m\u001b[39m.\u001b[39;49msession\u001b[39m.\u001b[39mheaders\u001b[39m.\u001b[39mupdate(config\u001b[39m.\u001b[39mREQUEST_HEADERS)\n\u001b[1;32m    482\u001b[0m     \u001b[39mself\u001b[39m\u001b[39m.\u001b[39msession\u001b[39m.\u001b[39mheaders\u001b[39m.\u001b[39mupdate({\u001b[39m\"\u001b[39m\u001b[39mUser-Agent\u001b[39m\u001b[39m\"\u001b[39m: \u001b[39mself\u001b[39m\u001b[39m.\u001b[39muser_agent})\n\u001b[1;32m    483\u001b[0m     \u001b[39mif\u001b[39;00m \u001b[39mnot\u001b[39;00m \u001b[39mself\u001b[39m\u001b[39m.\u001b[39mis_logged_in \u001b[39mand\u001b[39;00m \u001b[39mnot\u001b[39;00m login:\n",
      "\u001b[0;31mAttributeError\u001b[0m: 'API' object has no attribute 'session'"
     ]
    }
   ],
   "source": [
    "user_id = bot.get_user_id_from_username(\"lego\")\n",
    "user_info = bot.get_user_info(user_id)\n",
    "print(user_info['biography'])"
   ]
  },
  {
   "cell_type": "code",
   "execution_count": null,
   "metadata": {},
   "outputs": [],
   "source": []
  }
 ],
 "metadata": {
  "kernelspec": {
   "display_name": ".venv",
   "language": "python",
   "name": "python3"
  },
  "language_info": {
   "codemirror_mode": {
    "name": "ipython",
    "version": 3
   },
   "file_extension": ".py",
   "mimetype": "text/x-python",
   "name": "python",
   "nbconvert_exporter": "python",
   "pygments_lexer": "ipython3",
   "version": "3.10.6"
  },
  "orig_nbformat": 4
 },
 "nbformat": 4,
 "nbformat_minor": 2
}
