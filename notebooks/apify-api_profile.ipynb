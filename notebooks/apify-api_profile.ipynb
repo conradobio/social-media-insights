{
 "cells": [
  {
   "cell_type": "code",
   "execution_count": 2,
   "metadata": {},
   "outputs": [],
   "source": [
    "from apify_client import ApifyClient\n",
    "import json"
   ]
  },
  {
   "cell_type": "code",
   "execution_count": 3,
   "metadata": {},
   "outputs": [],
   "source": [
    "apify_token = 'apify_api_6tcrmwgn0f7RQq98V7NL47VsS63Jpx4rA7BA'"
   ]
  },
  {
   "cell_type": "code",
   "execution_count": 4,
   "metadata": {},
   "outputs": [],
   "source": [
    "# Initialize the ApifyClient with your API token\n",
    "client = ApifyClient(apify_token)"
   ]
  },
  {
   "cell_type": "code",
   "execution_count": 5,
   "metadata": {},
   "outputs": [],
   "source": [
    "# CHEAPER THAN SCRAPPER\n",
    "# https://apify.com/apify/instagram-profile-scraper/api\n",
    "# Scrape all Instagram profile info. Add one or more Instagram usernames and extract number of followers & follows,\n",
    "#  URLs, bio, posts, likes, counts, related profiles, captions, highlight reels, and more.\n",
    "\n",
    "# Prepare the actor input\n",
    "run_input = { \"usernames\": [\"ic.campinas\"] }"
   ]
  },
  {
   "cell_type": "code",
   "execution_count": 6,
   "metadata": {},
   "outputs": [],
   "source": [
    "# Run the actor and wait for it to finish\n",
    "run = client.actor(\"apify/instagram-profile-scraper\").call(run_input=run_input)"
   ]
  },
  {
   "cell_type": "code",
   "execution_count": 11,
   "metadata": {},
   "outputs": [
    {
     "data": {
      "text/plain": [
       "dict_keys(['id', 'actId', 'userId', 'startedAt', 'finishedAt', 'status', 'statusMessage', 'isStatusMessageTerminal', 'meta', 'stats', 'options', 'buildId', 'exitCode', 'defaultKeyValueStoreId', 'defaultDatasetId', 'defaultRequestQueueId', 'metamorphs', 'buildNumber', 'containerUrl', 'usage'])"
      ]
     },
     "execution_count": 11,
     "metadata": {},
     "output_type": "execute_result"
    }
   ],
   "source": [
    "run.keys()"
   ]
  },
  {
   "cell_type": "code",
   "execution_count": 8,
   "metadata": {},
   "outputs": [],
   "source": [
    "# Fetch and print actor results from the run's dataset (if there are any)\n",
    "items = []\n",
    "for item in client.dataset(run[\"defaultDatasetId\"]).iterate_items():\n",
    "    items.append(item)"
   ]
  },
  {
   "cell_type": "code",
   "execution_count": 23,
   "metadata": {},
   "outputs": [],
   "source": [
    "url_posts = [i.get('url') for i in items[0].get('latestPosts')]"
   ]
  },
  {
   "cell_type": "code",
   "execution_count": 24,
   "metadata": {},
   "outputs": [],
   "source": [
    "# Quick Instagram Posts Checker\n",
    "# Prepare the actor input\n",
    "run_input = { \"startUrls\": [{ \"url\": url_posts[0] }, { \"url\": url_posts[1] }, \n",
    "                            { \"url\": url_posts[2] }, { \"url\": url_posts[3] },\n",
    "                            { \"url\": url_posts[4] }] }"
   ]
  },
  {
   "cell_type": "code",
   "execution_count": 25,
   "metadata": {},
   "outputs": [],
   "source": [
    "# Run the actor and wait for it to finish\n",
    "run = client.actor(\"apify/quick-instagram-posts-checker\").call(run_input=run_input)"
   ]
  },
  {
   "cell_type": "code",
   "execution_count": 26,
   "metadata": {},
   "outputs": [
    {
     "name": "stdout",
     "output_type": "stream",
     "text": [
      "{'url': 'https://www.instagram.com/p/CqY5QeDO_AG/', 'likesCount': 27, 'stats': {'profile': 'ic.campinas5 posts  107 followers', 'isVerified': False, 'posts': 0, 'followers': None}}\n",
      "{'url': 'https://www.instagram.com/p/CqY5HhEuX2x/', 'likesCount': 24, 'stats': {'profile': 'ic.campinas5 posts  107 followers', 'isVerified': False, 'posts': 0, 'followers': None}}\n",
      "{'url': 'https://www.instagram.com/p/CqtTy5Kuu_E/', 'likesCount': 76, 'stats': {'profile': 'ic.campinas5 posts  107 followers', 'isVerified': False, 'posts': 0, 'followers': None}}\n",
      "{'url': 'https://www.instagram.com/p/Cqtuj-YumNK/', 'likesCount': 81, 'stats': {'profile': 'ic.campinas5 posts  107 followers', 'isVerified': False, 'posts': 0, 'followers': None}}\n",
      "{'url': 'https://www.instagram.com/p/CqY5MFhOPgA/', 'likesCount': 62, 'stats': {'profile': 'ic.campinas5 posts  107 followers', 'isVerified': False, 'posts': 0, 'followers': None}}\n"
     ]
    }
   ],
   "source": [
    "# Fetch and print actor results from the run's dataset (if there are any)\n",
    "for posts in client.dataset(run[\"defaultDatasetId\"]).iterate_items():\n",
    "    print(posts)"
   ]
  },
  {
   "cell_type": "code",
   "execution_count": 34,
   "metadata": {},
   "outputs": [],
   "source": [
    "# save dictionary to json file\n",
    "with open('../data/ic_campinas-07-04.json', 'w') as f:\n",
    "        f.write(json.dumps(items[0]))"
   ]
  },
  {
   "cell_type": "code",
   "execution_count": 35,
   "metadata": {},
   "outputs": [],
   "source": [
    "# load json file\n",
    "with open('../data/ic_campinas-07-04.json', 'r') as f:\n",
    "    data = json.load(f)"
   ]
  },
  {
   "cell_type": "code",
   "execution_count": null,
   "metadata": {},
   "outputs": [],
   "source": []
  }
 ],
 "metadata": {
  "kernelspec": {
   "display_name": ".venv",
   "language": "python",
   "name": "python3"
  },
  "language_info": {
   "codemirror_mode": {
    "name": "ipython",
    "version": 3
   },
   "file_extension": ".py",
   "mimetype": "text/x-python",
   "name": "python",
   "nbconvert_exporter": "python",
   "pygments_lexer": "ipython3",
   "version": "3.10.6"
  },
  "orig_nbformat": 4
 },
 "nbformat": 4,
 "nbformat_minor": 2
}
