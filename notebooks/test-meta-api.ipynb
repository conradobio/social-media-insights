{
 "cells": [
  {
   "attachments": {},
   "cell_type": "markdown",
   "metadata": {},
   "source": [
    "#### facebook api"
   ]
  },
  {
   "cell_type": "code",
   "execution_count": null,
   "metadata": {},
   "outputs": [],
   "source": [
    "from pyfacebook import GraphAPI\n",
    "import requests"
   ]
  },
  {
   "cell_type": "code",
   "execution_count": 13,
   "metadata": {},
   "outputs": [],
   "source": [
    "app_id = \"3506022166285539\"\n",
    "app_secret = \"28414f2f7c8ea6831eee73a8dad65628\"\n",
    "user_short_token = \"EAAx0tWXLzOMBAPZAugN1AJUrTZCKsHWlDIqbtRdAYzAttxBEMHBgvsYiFuptwmgXRrFj2qlnmJEdxBZBjxTElylHgs8xv2XzgV7srfc1fqnXy8WNXJuTE9WgRYHkOsIp95CS1NghmZCNSLaUBXGMUZBZACaA1ZAxZB3kg6np51t5mtPPxZC4kLgvd\""
   ]
  },
  {
   "cell_type": "code",
   "execution_count": 14,
   "metadata": {},
   "outputs": [],
   "source": [
    "url = \"https://graph.facebook.com/oauth/access_token\""
   ]
  },
  {
   "cell_type": "code",
   "execution_count": 15,
   "metadata": {},
   "outputs": [],
   "source": [
    "payload = {\n",
    "    \"grant_type\": \"fb_exchange_token\",\n",
    "    \"client_id\": app_id,\n",
    "    \"client_secret\": app_secret,\n",
    "    \"fb_exchange_token\": user_short_token,\n",
    "}"
   ]
  },
  {
   "cell_type": "code",
   "execution_count": 16,
   "metadata": {},
   "outputs": [],
   "source": [
    "response = requests.get(\n",
    "        url,\n",
    "        params=payload,\n",
    "        timeout=5,\n",
    "    )"
   ]
  },
  {
   "cell_type": "code",
   "execution_count": 17,
   "metadata": {},
   "outputs": [],
   "source": [
    "response_json = response.json()\n",
    "user_long_token = response_json[\"access_token\"]"
   ]
  },
  {
   "cell_type": "code",
   "execution_count": 20,
   "metadata": {},
   "outputs": [],
   "source": [
    "import facebook\n",
    "\n",
    "graph = facebook.GraphAPI(access_token=user_long_token, version=\"3.0\")\n",
    "pages_data = graph.get_object(\"/me/accounts\")"
   ]
  },
  {
   "cell_type": "code",
   "execution_count": 22,
   "metadata": {},
   "outputs": [],
   "source": [
    "permanent_page_token = pages_data[\"data\"][0][\"access_token\"]\n",
    "page_id = pages_data[\"data\"][0][\"id\"]"
   ]
  },
  {
   "cell_type": "code",
   "execution_count": 37,
   "metadata": {},
   "outputs": [
    {
     "data": {
      "text/plain": [
       "'1342059642482986'"
      ]
     },
     "execution_count": 37,
     "metadata": {},
     "output_type": "execute_result"
    }
   ],
   "source": [
    "page_id"
   ]
  },
  {
   "cell_type": "code",
   "execution_count": 27,
   "metadata": {},
   "outputs": [],
   "source": [
    "graph = facebook.GraphAPI(access_token=permanent_page_token, version=\"3.0\")\n",
    "object = graph.get_object(id=page_id, fields=\"category\")"
   ]
  },
  {
   "cell_type": "code",
   "execution_count": 28,
   "metadata": {},
   "outputs": [
    {
     "data": {
      "text/plain": [
       "{'category': 'Comunidade', 'id': '1342059642482986'}"
      ]
     },
     "execution_count": 28,
     "metadata": {},
     "output_type": "execute_result"
    }
   ],
   "source": [
    "object"
   ]
  },
  {
   "cell_type": "code",
   "execution_count": 29,
   "metadata": {},
   "outputs": [],
   "source": [
    "default_info = graph.get_object(id=page_id)"
   ]
  },
  {
   "cell_type": "code",
   "execution_count": 30,
   "metadata": {},
   "outputs": [
    {
     "data": {
      "text/plain": [
       "{'name': 'Bio Brasil Construtora', 'id': '1342059642482986'}"
      ]
     },
     "execution_count": 30,
     "metadata": {},
     "output_type": "execute_result"
    }
   ],
   "source": [
    "default_info"
   ]
  },
  {
   "cell_type": "code",
   "execution_count": 31,
   "metadata": {},
   "outputs": [
    {
     "data": {
      "text/plain": [
       "{'about': 'Somos uma empresa familiar com gente que ama o que faz\\n1º empresa do Brasil, com empreendimentos de p',\n",
       " 'website': 'http://www.biobrasilconstrutora.com.br/',\n",
       " 'id': '1342059642482986'}"
      ]
     },
     "execution_count": 31,
     "metadata": {},
     "output_type": "execute_result"
    }
   ],
   "source": [
    "some_info = graph.get_object(id=page_id, fields='about, website')\n",
    "some_info"
   ]
  },
  {
   "cell_type": "code",
   "execution_count": 35,
   "metadata": {},
   "outputs": [],
   "source": [
    "page_impressions = graph.get_connections(id=page_id,\n",
    "                                         connection_name='insights',\n",
    "                                         metric='page_impressions',\n",
    "                                         date_preset='yesterday',\n",
    "                                         period='month',\n",
    "                                         show_description_from_api_doc=True)"
   ]
  },
  {
   "cell_type": "code",
   "execution_count": 36,
   "metadata": {},
   "outputs": [
    {
     "data": {
      "text/plain": [
       "{'data': [],\n",
       " 'paging': {'previous': 'https://graph.facebook.com/v16.0/1342059642482986/insights?access_token=EAAx0tWXLzOMBACtiYpU5VM4ZAIxbVLRXu79LzuO78UO3rFVZAP7OQik6BlVkynp5PRG0ZBaZCTZBReBZAhpvuxa5rfHQVLBZAWYVJXHfG2gGZCJTuEVosCnIlTjsMtfXsHaVHlA4lDoEt9q1xyo2GAP21VJZACLdKnKiuwkW6cNNe8ieavdUudeg6&metric=page_impressions&period=month&show_description_from_api_doc=True&date_preset=yesterday&since=1676534400&until=1676620800',\n",
       "  'next': 'https://graph.facebook.com/v16.0/1342059642482986/insights?access_token=EAAx0tWXLzOMBACtiYpU5VM4ZAIxbVLRXu79LzuO78UO3rFVZAP7OQik6BlVkynp5PRG0ZBaZCTZBReBZAhpvuxa5rfHQVLBZAWYVJXHfG2gGZCJTuEVosCnIlTjsMtfXsHaVHlA4lDoEt9q1xyo2GAP21VJZACLdKnKiuwkW6cNNe8ieavdUudeg6&metric=page_impressions&period=month&show_description_from_api_doc=True&date_preset=yesterday&since=1676707200&until=1676793600'}}"
      ]
     },
     "execution_count": 36,
     "metadata": {},
     "output_type": "execute_result"
    }
   ],
   "source": [
    "page_impressions"
   ]
  },
  {
   "attachments": {},
   "cell_type": "markdown",
   "metadata": {},
   "source": [
    "#### instagram api"
   ]
  },
  {
   "cell_type": "code",
   "execution_count": 24,
   "metadata": {},
   "outputs": [],
   "source": [
    "# Import Libraries\n",
    "import requests\n",
    "import json\n",
    "import datetime\n",
    "import pandas as pd\n",
    "\n",
    "# Define Parameters Dictionary\n",
    "params = dict()\n",
    "params['client_id'] = \"3506022166285539\"\n",
    "params['client_secret'] = \"28414f2f7c8ea6831eee73a8dad65628\"\n",
    "#params['access_token'] = \"EAAx0tWXLzOMBAPZAugN1AJUrTZCKsHWlDIqbtRdAYzAttxBEMHBgvsYiFuptwmgXRrFj2qlnmJEdxBZBjxTElylHgs8xv2XzgV7srfc1fqnXy8WNXJuTE9WgRYHkOsIp95CS1NghmZCNSLaUBXGMUZBZACaA1ZAxZB3kg6np51t5mtPPxZC4kLgvd\"\n",
    "params['access_token'] = 'EAAx0tWXLzOMBAOlY4LO3C3EBa9J9ZB0ShCIjhAJIgEPT4ua9eTTrmwuePm2f8CNYHF8ei84Lyg8NhIPmY4FqtZBVdJx2PGAIEXATBVgYYPVvS8jyQMjmktI4fu6fnepXTd4zDZCWNNZCRuwpbspzn7f4ADUyT7oYnZCZCB8G2mIwZDZD'\n",
    "#params['access_token'] = 'EAAx0tWXLzOMBAG4hrz1yigoHxvZBoCBu0gh991RjmMinrVuqMWIZBYbYn6EZCN0mCBtckK0PzRBepAvqwvnSpxJUwflvVZAvj0OZBx6foRPLIdcHVivAQYHtv1BJhHJMVfHZClDQty3ggwb8AuymbmHTZCrMIw9ZA7vXRAZBEmF8hugZDZD'\n",
    "#params['access_token'] = 'XXXXXXXXXXXXXXXXXXX'        # not an actual access token\n",
    "#params['client_id'] = '111111111111'                  # not an actual client id\n",
    "#params['client_secret'] = '000000000XXXXXXXXXXXX'     # not an actual client secret\n",
    "params['graph_domain'] = 'https://graph.facebook.com'\n",
    "params['graph_version'] = 'v16.0'\n",
    "params['endpoint_base'] = params['graph_domain'] + '/' + params['graph_version'] + '/'\n",
    "params['page_id'] = '108442824725688'                  # not an actual page id\n",
    "params['instagram_account_id'] = '17841447289801675'        # not an actual instagram business account id\n",
    "#params['ig_username'] = 'popih.vc'"
   ]
  },
  {
   "cell_type": "code",
   "execution_count": 15,
   "metadata": {},
   "outputs": [],
   "source": [
    "# Define Endpoint Parameters\n",
    "endpointParams = dict()\n",
    "endpointParams['input_token'] = params['access_token']\n",
    "endpointParams['access_token'] = params['access_token']"
   ]
  },
  {
   "cell_type": "code",
   "execution_count": 16,
   "metadata": {},
   "outputs": [],
   "source": [
    "url = params['graph_domain'] + '/debug_token'"
   ]
  },
  {
   "cell_type": "code",
   "execution_count": 17,
   "metadata": {},
   "outputs": [],
   "source": [
    "data = requests.get(url, endpointParams)\n",
    "access_token_data = json.loads(data.content)"
   ]
  },
  {
   "cell_type": "code",
   "execution_count": 18,
   "metadata": {},
   "outputs": [
    {
     "data": {
      "text/plain": [
       "{'data': {'app_id': '3506022166285539',\n",
       "  'type': 'USER',\n",
       "  'application': 'social-media-insights',\n",
       "  'data_access_expires_at': 1684518098,\n",
       "  'expires_at': 0,\n",
       "  'is_valid': True,\n",
       "  'issued_at': 1676727989,\n",
       "  'scopes': ['read_insights',\n",
       "   'pages_show_list',\n",
       "   'instagram_basic',\n",
       "   'instagram_manage_insights',\n",
       "   'instagram_content_publish',\n",
       "   'pages_read_engagement',\n",
       "   'pages_read_user_content'],\n",
       "  'granular_scopes': [{'scope': 'pages_show_list',\n",
       "    'target_ids': ['108442824725688']},\n",
       "   {'scope': 'instagram_basic', 'target_ids': ['17841447289801675']},\n",
       "   {'scope': 'instagram_manage_insights', 'target_ids': ['17841447289801675']},\n",
       "   {'scope': 'instagram_content_publish', 'target_ids': ['17841447289801675']},\n",
       "   {'scope': 'pages_read_engagement', 'target_ids': ['108442824725688']},\n",
       "   {'scope': 'pages_read_user_content', 'target_ids': ['108442824725688']}],\n",
       "  'user_id': '5891292150951048'}}"
      ]
     },
     "execution_count": 18,
     "metadata": {},
     "output_type": "execute_result"
    }
   ],
   "source": [
    "access_token_data"
   ]
  },
  {
   "cell_type": "code",
   "execution_count": 13,
   "metadata": {},
   "outputs": [
    {
     "data": {
      "text/plain": [
       "{'access_token': 'EAAx0tWXLzOMBAOlY4LO3C3EBa9J9ZB0ShCIjhAJIgEPT4ua9eTTrmwuePm2f8CNYHF8ei84Lyg8NhIPmY4FqtZBVdJx2PGAIEXATBVgYYPVvS8jyQMjmktI4fu6fnepXTd4zDZCWNNZCRuwpbspzn7f4ADUyT7oYnZCZCB8G2mIwZDZD',\n",
       " 'token_type': 'bearer'}"
      ]
     },
     "execution_count": 13,
     "metadata": {},
     "output_type": "execute_result"
    }
   ],
   "source": [
    "# Define URL\n",
    "url = params['endpoint_base'] + 'oauth/access_token'\n",
    "\n",
    "# Define Endpoint Parameters\n",
    "endpointParams = dict() \n",
    "endpointParams['grant_type'] = 'fb_exchange_token'\n",
    "endpointParams['client_id'] = params['client_id']\n",
    "endpointParams['client_secret'] = params['client_secret']\n",
    "endpointParams['fb_exchange_token'] = params['access_token']\n",
    "\n",
    "# Requests Data\n",
    "data = requests.get(url, endpointParams )\n",
    "long_lived_token = json.loads(data.content)\n",
    "long_lived_token"
   ]
  },
  {
   "cell_type": "code",
   "execution_count": 20,
   "metadata": {},
   "outputs": [],
   "source": [
    "#### get user pages\n",
    "\n",
    "# Define URL\n",
    "url = params['endpoint_base'] + 'me/accounts'\n",
    "\n",
    "# Define Endpoint Parameters\n",
    "endpointParams = dict()\n",
    "endpointParams['access_token'] = params['access_token']\n",
    "\n",
    "data = requests.get(url, endpointParams )\n",
    "basic_insight = json.loads(data.content)\n",
    "basic_insight"
   ]
  },
  {
   "cell_type": "code",
   "execution_count": 26,
   "metadata": {},
   "outputs": [
    {
     "data": {
      "text/plain": [
       "{'instagram_business_account': {'id': '17841447289801675'},\n",
       " 'id': '108442824725688'}"
      ]
     },
     "execution_count": 26,
     "metadata": {},
     "output_type": "execute_result"
    }
   ],
   "source": [
    "# Define URL\n",
    "url = params['endpoint_base'] + params['page_id']\n",
    "\n",
    "# Define Endpoint Parameters\n",
    "endpointParams = dict()\n",
    "endpointParams['access_token'] = params['access_token']\n",
    "endpointParams['fields'] = 'instagram_business_account'\n",
    "\n",
    "data = requests.get(url, endpointParams )\n",
    "basic_insight = json.loads(data.content)\n",
    "basic_insight"
   ]
  },
  {
   "cell_type": "code",
   "execution_count": null,
   "metadata": {},
   "outputs": [],
   "source": [
    "page_id = 108442824725688"
   ]
  },
  {
   "cell_type": "code",
   "execution_count": null,
   "metadata": {},
   "outputs": [],
   "source": []
  },
  {
   "cell_type": "code",
   "execution_count": 62,
   "metadata": {},
   "outputs": [],
   "source": [
    "url = 'https://graph.facebook.com/17841405822304914/insights?metric=impressions,reach,profile_views&period=day'\n",
    "data = requests.get(url, endpointParams )"
   ]
  },
  {
   "cell_type": "code",
   "execution_count": 63,
   "metadata": {},
   "outputs": [
    {
     "data": {
      "text/plain": [
       "{'error': {'message': '(#10) Application does not have permission for this action',\n",
       "  'type': 'OAuthException',\n",
       "  'code': 10,\n",
       "  'fbtrace_id': 'AGdMmTYnwXLaad2jzo1ngvT'}}"
      ]
     },
     "execution_count": 63,
     "metadata": {},
     "output_type": "execute_result"
    }
   ],
   "source": [
    "basic_insight = json.loads(data.content)\n",
    "basic_insight"
   ]
  },
  {
   "cell_type": "code",
   "execution_count": 77,
   "metadata": {},
   "outputs": [],
   "source": [
    "url = 'https://www.instagram.com/web/search/topsearch/?query=therock'\n",
    "\n",
    "data = requests.get(url)"
   ]
  },
  {
   "cell_type": "code",
   "execution_count": 78,
   "metadata": {},
   "outputs": [
    {
     "data": {
      "text/plain": [
       "{'message': 'Please wait a few minutes before you try again.',\n",
       " 'require_login': True,\n",
       " 'status': 'fail'}"
      ]
     },
     "execution_count": 78,
     "metadata": {},
     "output_type": "execute_result"
    }
   ],
   "source": [
    "basic_insight = json.loads(data.content)\n",
    "basic_insight"
   ]
  }
 ],
 "metadata": {
  "kernelspec": {
   "display_name": ".venv",
   "language": "python",
   "name": "python3"
  },
  "language_info": {
   "codemirror_mode": {
    "name": "ipython",
    "version": 3
   },
   "file_extension": ".py",
   "mimetype": "text/x-python",
   "name": "python",
   "nbconvert_exporter": "python",
   "pygments_lexer": "ipython3",
   "version": "3.10.6"
  },
  "orig_nbformat": 4,
  "vscode": {
   "interpreter": {
    "hash": "c3ec9b0035c07226aafec5ceec948775009346dff20e96fb567104c19b409532"
   }
  }
 },
 "nbformat": 4,
 "nbformat_minor": 2
}
