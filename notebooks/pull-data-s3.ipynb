{
 "cells": [
  {
   "cell_type": "code",
   "execution_count": 17,
   "metadata": {},
   "outputs": [],
   "source": [
    "import boto3\n",
    "import os\n",
    "import pandas as pd\n",
    "from datetime import datetime\n",
    "\n",
    "import threading\n",
    "import io\n",
    "import sys"
   ]
  },
  {
   "cell_type": "code",
   "execution_count": 2,
   "metadata": {},
   "outputs": [],
   "source": [
    "from dotenv import load_dotenv\n",
    "load_dotenv('.env')\n",
    "\n",
    "AWS_DEFAULT_REGION = os.getenv(\"AWS_DEFAULT_REGION\") \n",
    "AWS_ACCESS_KEY_ID = os.getenv(\"AWS_ACCESS_KEY_ID\")\n",
    "AWS_SECRET_ACCESS_KEY = os.getenv(\"AWS_SECRET_ACCESS_KEY\")"
   ]
  },
  {
   "cell_type": "code",
   "execution_count": 4,
   "metadata": {},
   "outputs": [],
   "source": [
    "# Starting a Session s3\n",
    "session = boto3.Session(\n",
    "        aws_access_key_id=AWS_ACCESS_KEY_ID,\n",
    "        aws_secret_access_key=AWS_SECRET_ACCESS_KEY,\n",
    "        region_name=AWS_DEFAULT_REGION\n",
    "    )\n",
    "\n",
    "s3 = session.resource(\"s3\")"
   ]
  },
  {
   "cell_type": "code",
   "execution_count": 18,
   "metadata": {},
   "outputs": [],
   "source": [
    "raw_bucket = 'instagram-raw'\n",
    "analytics_bucket = 'intagram-analytics'\n",
    "\n",
    "accounts = ['ic.campinas', 'ic.saobernardo']\n",
    "types = ['details', 'posts']\n",
    "today = datetime.now().date()"
   ]
  },
  {
   "cell_type": "code",
   "execution_count": 6,
   "metadata": {},
   "outputs": [],
   "source": [
    "class UploadProgressPercentage(object):\n",
    "\n",
    "    def __init__(self, filename):\n",
    "        self._filename = filename\n",
    "        self._size = float(os.path.getsize(filename))\n",
    "        self._seen_so_far = 0\n",
    "        self._lock = threading.Lock()\n",
    "\n",
    "    def __call__(self, bytes_amount):\n",
    "        # To simplify we'll assume this is hooked up\n",
    "        # to a single filename.\n",
    "        with self._lock:\n",
    "            self._seen_so_far += bytes_amount\n",
    "            percentage = (self._seen_so_far / self._size) * 100\n",
    "            sys.stdout.write(\n",
    "                \"\\r%s  %s / %s  (%.2f%%) \\n\" % (\n",
    "                    self._filename, self._seen_so_far, self._size,\n",
    "                    percentage))\n",
    "            sys.stdout.flush()\n",
    "\n",
    "# Push Data to s3\n",
    "def push_data_to_s3(s3, bucket_name, accounts, types, today):\n",
    "\n",
    "    bucket = s3.Bucket(name=bucket_name)\n",
    "    for account in accounts:\n",
    "        for type in types:\n",
    "            file_path = f'../data/{account}/{account}-{type}-{today}.json'\n",
    "            file_name = f'{account}/{account}-{type}-{today}.json'\n",
    "            \n",
    "            with open(file_path, 'rb') as data:\n",
    "                bucket.upload_fileobj(data,\n",
    "                    file_name,\n",
    "                    Callback=UploadProgressPercentage(file_path)\n",
    "                    )"
   ]
  },
  {
   "cell_type": "code",
   "execution_count": 9,
   "metadata": {},
   "outputs": [],
   "source": [
    "bucket = s3.Bucket(name=raw_bucket)"
   ]
  },
  {
   "cell_type": "code",
   "execution_count": 14,
   "metadata": {},
   "outputs": [],
   "source": [
    "file_path = f'../data/ic-campinas/ic_campinas-posts-2023-05-06.json'\n",
    "file_name = f'ic_campinas/ic_campinas-posts-2023-05-06.json'"
   ]
  },
  {
   "cell_type": "code",
   "execution_count": 15,
   "metadata": {},
   "outputs": [
    {
     "name": "stdout",
     "output_type": "stream",
     "text": [
      "../data/ic-campinas/ic_campinas-posts-2023-05-06.json  95011 / 95011.0  (100.00%) \n"
     ]
    }
   ],
   "source": [
    "with open(file_path, 'rb') as data:\n",
    "                bucket.upload_fileobj(data,\n",
    "                    file_name,\n",
    "                    Callback=UploadProgressPercentage(file_path)\n",
    "                    )"
   ]
  },
  {
   "cell_type": "code",
   "execution_count": 9,
   "metadata": {},
   "outputs": [],
   "source": []
  },
  {
   "cell_type": "code",
   "execution_count": 16,
   "metadata": {},
   "outputs": [
    {
     "name": "stdout",
     "output_type": "stream",
     "text": [
      "instagram-raw\n",
      "intagram-analytics\n"
     ]
    }
   ],
   "source": [
    "# Print out bucket names\n",
    "for bucket in s3.buckets.all():\n",
    "    print(bucket.name)"
   ]
  },
  {
   "cell_type": "code",
   "execution_count": null,
   "metadata": {},
   "outputs": [],
   "source": [
    "# Check files presents in s3\n",
    "for obj in s3.Bucket('instagram-raw').objects.all():\n",
    "    print(obj)"
   ]
  },
  {
   "cell_type": "code",
   "execution_count": null,
   "metadata": {},
   "outputs": [],
   "source": []
  }
 ],
 "metadata": {
  "kernelspec": {
   "display_name": ".venv",
   "language": "python",
   "name": "python3"
  },
  "language_info": {
   "codemirror_mode": {
    "name": "ipython",
    "version": 3
   },
   "file_extension": ".py",
   "mimetype": "text/x-python",
   "name": "python",
   "nbconvert_exporter": "python",
   "pygments_lexer": "ipython3",
   "version": "3.10.6"
  },
  "orig_nbformat": 4
 },
 "nbformat": 4,
 "nbformat_minor": 2
}
