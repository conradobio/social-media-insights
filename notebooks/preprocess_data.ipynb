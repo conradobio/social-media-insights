{
 "cells": [
  {
   "cell_type": "code",
   "execution_count": 1,
   "metadata": {},
   "outputs": [],
   "source": [
    "import pandas as pd\n",
    "import json\n",
    "from datetime import datetime\n",
    "import os\n"
   ]
  },
  {
   "cell_type": "code",
   "execution_count": 58,
   "metadata": {},
   "outputs": [
    {
     "name": "stdout",
     "output_type": "stream",
     "text": [
      "(10, 9)\n",
      "(8, 9)\n",
      "(9, 9)\n",
      "(7, 9)\n",
      "(8, 9)\n",
      "(7, 9)\n",
      "(6, 9)\n"
     ]
    }
   ],
   "source": [
    "for root, dirs, files in os.walk('../data/'):\n",
    "    df = pd.DataFrame()\n",
    "    for file in files:\n",
    "        filename, extension = os.path.splitext(file)\n",
    "        if extension == '.json':\n",
    "            with open(f'../data/{file}') as f:\n",
    "                tmp = json.load(f)\n",
    "\n",
    "            posts_stats = []\n",
    "            date_split = file.split('_')[2]\n",
    "            date = datetime(int(date_split.split('-')[0]), int(date_split.split('-')[1]), int(date_split.split('-')[2]))\n",
    "\n",
    "            for post in tmp.get('latestPosts'):\n",
    "                link_post = post['shortCode']\n",
    "                tipo = post['type']\n",
    "                data_postagem = post['timestamp']\n",
    "                qtd_comments = post['commentsCount']\n",
    "                qtd_likes = post['likesCount']\n",
    "                legenda = post['caption']\n",
    "                hashtags = post['hashtags']\n",
    "                \n",
    "                posts_stats.append(dict(uid=link_post,\n",
    "                                        tipo=tipo,\n",
    "                                        data_postagem=data_postagem, \n",
    "                                        legenda=legenda,\n",
    "                                        qtd_likes=qtd_likes,\n",
    "                                        qtd_comments=qtd_comments,\n",
    "                                        hashtags=hashtags,\n",
    "                                        data_extracao=date\n",
    "                                        ))\n",
    "                \n",
    "            posts_stats.append(dict(followersCount=tmp.get('followersCount'),\n",
    "                                        data_extracao=date\n",
    "                                        ))\n",
    "\n",
    "            tmp_df = pd.DataFrame(posts_stats)\n",
    "            print(tmp_df.shape)\n",
    "        df = pd.concat([tmp_df, df]).sort_values(by = \"data_extracao\")            "
   ]
  },
  {
   "cell_type": "code",
   "execution_count": 61,
   "metadata": {},
   "outputs": [],
   "source": [
    "df.to_csv('../data/dados-consolidados.csv')"
   ]
  },
  {
   "cell_type": "code",
   "execution_count": null,
   "metadata": {},
   "outputs": [],
   "source": []
  }
 ],
 "metadata": {
  "kernelspec": {
   "display_name": ".venv",
   "language": "python",
   "name": "python3"
  },
  "language_info": {
   "codemirror_mode": {
    "name": "ipython",
    "version": 3
   },
   "file_extension": ".py",
   "mimetype": "text/x-python",
   "name": "python",
   "nbconvert_exporter": "python",
   "pygments_lexer": "ipython3",
   "version": "3.10.6"
  },
  "orig_nbformat": 4
 },
 "nbformat": 4,
 "nbformat_minor": 2
}
