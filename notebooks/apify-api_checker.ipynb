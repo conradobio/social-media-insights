{
 "cells": [
  {
   "cell_type": "code",
   "execution_count": 1,
   "metadata": {},
   "outputs": [],
   "source": [
    "from apify_client import ApifyClient\n",
    "import json"
   ]
  },
  {
   "cell_type": "code",
   "execution_count": 2,
   "metadata": {},
   "outputs": [],
   "source": [
    "apify_token = 'apify_api_6tcrmwgn0f7RQq98V7NL47VsS63Jpx4rA7BA'"
   ]
  },
  {
   "cell_type": "code",
   "execution_count": 3,
   "metadata": {},
   "outputs": [],
   "source": [
    "# Initialize the ApifyClient with your API token\n",
    "client = ApifyClient(apify_token)"
   ]
  },
  {
   "cell_type": "code",
   "execution_count": 4,
   "metadata": {},
   "outputs": [],
   "source": [
    "# load json file\n",
    "with open('../data/ic_campinas-07-04.json', 'r') as f:\n",
    "    data = json.load(f)"
   ]
  },
  {
   "cell_type": "code",
   "execution_count": 8,
   "metadata": {},
   "outputs": [],
   "source": [
    "url_posts = [i.get('url') for i in data.get('latestPosts')]"
   ]
  },
  {
   "cell_type": "code",
   "execution_count": 13,
   "metadata": {},
   "outputs": [],
   "source": [
    "url_posts.append('https://www.instagram.com/p/CqvOtc6O8Ba/')"
   ]
  },
  {
   "cell_type": "code",
   "execution_count": 14,
   "metadata": {},
   "outputs": [],
   "source": [
    "# Quick Instagram Posts Checker\n",
    "# Prepare the actor input\n",
    "run_input = { \"startUrls\": [{ \"url\": url_posts[0] }, { \"url\": url_posts[1] }, \n",
    "                            { \"url\": url_posts[2] }, { \"url\": url_posts[3] },\n",
    "                            { \"url\": url_posts[4] }, { \"url\": url_posts[5] }] }"
   ]
  },
  {
   "cell_type": "code",
   "execution_count": 15,
   "metadata": {},
   "outputs": [],
   "source": [
    "run = client.actor(\"apify/quick-instagram-posts-checker\").call(run_input=run_input)"
   ]
  },
  {
   "cell_type": "code",
   "execution_count": 16,
   "metadata": {},
   "outputs": [
    {
     "name": "stdout",
     "output_type": "stream",
     "text": [
      "{'url': 'https://www.instagram.com/p/CqY5MFhOPgA/', 'likesCount': 64, 'stats': {'profile': 'ic.campinas6 posts  127 followers', 'isVerified': False, 'posts': 0, 'followers': None}}\n",
      "{'url': 'https://www.instagram.com/p/CqY5HhEuX2x/', 'likesCount': 26, 'stats': {'profile': 'ic.campinas6 posts  127 followers', 'isVerified': False, 'posts': 0, 'followers': None}}\n",
      "{'url': 'https://www.instagram.com/p/CqvOtc6O8Ba/', 'likesCount': 36, 'stats': {'profile': 'ic.campinas6 posts  127 followers', 'isVerified': False, 'posts': 0, 'followers': None}}\n",
      "{'url': 'https://www.instagram.com/p/Cqtuj-YumNK/', 'likesCount': 114, 'stats': {'profile': 'ic.campinas6 posts  127 followers', 'isVerified': False, 'posts': 0, 'followers': None}}\n",
      "{'url': 'https://www.instagram.com/p/CqY5QeDO_AG/', 'likesCount': 29, 'stats': {'profile': 'ic.campinas6 posts  127 followers', 'isVerified': False, 'posts': 0, 'followers': None}}\n",
      "{'url': 'https://www.instagram.com/p/CqtTy5Kuu_E/', 'likesCount': 98, 'stats': {'profile': 'ic.campinas6 posts  127 followers', 'isVerified': False, 'posts': 0, 'followers': None}}\n"
     ]
    }
   ],
   "source": [
    "# Fetch and print actor results from the run's dataset (if there are any)\n",
    "for posts in client.dataset(run[\"defaultDatasetId\"]).iterate_items():\n",
    "    print(posts)"
   ]
  },
  {
   "cell_type": "code",
   "execution_count": null,
   "metadata": {},
   "outputs": [],
   "source": []
  }
 ],
 "metadata": {
  "kernelspec": {
   "display_name": ".venv",
   "language": "python",
   "name": "python3"
  },
  "language_info": {
   "codemirror_mode": {
    "name": "ipython",
    "version": 3
   },
   "file_extension": ".py",
   "mimetype": "text/x-python",
   "name": "python",
   "nbconvert_exporter": "python",
   "pygments_lexer": "ipython3",
   "version": "3.10.6"
  },
  "orig_nbformat": 4
 },
 "nbformat": 4,
 "nbformat_minor": 2
}
